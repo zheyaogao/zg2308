{
 "cells": [
  {
   "cell_type": "code",
   "execution_count": null,
   "metadata": {},
   "outputs": [],
   "source": [
    "from tweepy import Stream \n",
    "from tweepy import OAuthHandler\n",
    "from tweepy.streaming import StreamListener"
   ]
  },
  {
   "cell_type": "code",
   "execution_count": null,
   "metadata": {},
   "outputs": [],
   "source": [
    "CONSUMER_KEY = \"mDU9oAfCJWSHrWroaYxnUlzxK\"\n",
    "CONSUMER_SECRET = \"AExpaDFprBZhfqPBNC1v1f5UH0ECDTXXUUzUf9cj6G3laKjdI7\"\n",
    "ACCESS_TOKEN = \"1052201566776815622-MKTrQfe21jl60m6oYu72glLe8Ei66L\"\n",
    "ACCESS_TOKEN_SECRET = \"jrIsjMYaFjfnHZwoITlvarCqiTSh6Fne48tTeu8nuJu3l\""
   ]
  },
  {
   "cell_type": "code",
   "execution_count": null,
   "metadata": {},
   "outputs": [],
   "source": [
    "import socket\n",
    "import sys \n",
    "import requests\n",
    "import requests_oauthlib\n",
    "import json"
   ]
  },
  {
   "cell_type": "code",
   "execution_count": null,
   "metadata": {},
   "outputs": [],
   "source": [
    "my_auth = requests_oauthlib.OAuth1(CONSUMER_KEY,CONSUMER_SECRET,ACCESS_TOKEN,ACCESS_TOKEN_SECRET)"
   ]
  },
  {
   "cell_type": "code",
   "execution_count": null,
   "metadata": {},
   "outputs": [],
   "source": [
    "def get_tweets():\n",
    "    url='https://stream.twitter.com/1.1/statuses/filter.json'\n",
    "    query_data=[('language','en'),('track','%23LouWilliams'),('track','%23StephenCurry'),('track','%23KevinDurant'),('track','%23Cousins'), \\\n",
    "               ('track','%23NBA'),('track','NBA'),('track','Lou Williams'),('track','Stephen Curry'),('track','Kevin Durant'),('track','Cousins')]\n",
    "    query_url=url+'?'+'&'.join([str(t[0])+'='+str(t[1]) for t in query_data])\n",
    "    response=requests.get(query_url,auth=my_auth,stream=True)\n",
    "    print(query_url,response)\n",
    "    return response"
   ]
  },
  {
   "cell_type": "code",
   "execution_count": null,
   "metadata": {},
   "outputs": [],
   "source": [
    "def send_tweets_to_spark(http_resp, tcp_connection):\n",
    "    for line in http_resp.iter_lines():\n",
    "        try:\n",
    "            full_tweet = json.loads(line)\n",
    "            tweet_text = full_tweet['text']\n",
    "            print(tweet_text)\n",
    "            tcp_connection.send((tweet_text + '\\n').encode())\n",
    "        except:\n",
    "            e = sys.exc_info()[0]\n",
    "            print(e)"
   ]
  },
  {
   "cell_type": "code",
   "execution_count": null,
   "metadata": {
    "scrolled": false
   },
   "outputs": [],
   "source": [
    "TCP_IP = \"localhost\"\n",
    "TCP_PORT = 9009\n",
    "conn = None\n",
    "s = socket.socket(socket.AF_INET, socket.SOCK_STREAM)\n",
    "s.bind((TCP_IP, TCP_PORT))\n",
    "s.listen(1)\n",
    "print(\"Waiting for TCP connection...\")\n",
    "conn, addr = s.accept()\n",
    "print(\"Connected... Starting getting tweets.\")\n",
    "resp = get_tweets()\n",
    "send_tweets_to_spark(resp, conn)"
   ]
  },
  {
   "cell_type": "code",
   "execution_count": null,
   "metadata": {},
   "outputs": [],
   "source": []
  }
 ],
 "metadata": {
  "kernelspec": {
   "display_name": "Python 3",
   "language": "python",
   "name": "python3"
  },
  "language_info": {
   "codemirror_mode": {
    "name": "ipython",
    "version": 3
   },
   "file_extension": ".py",
   "mimetype": "text/x-python",
   "name": "python",
   "nbconvert_exporter": "python",
   "pygments_lexer": "ipython3",
   "version": "3.6.4"
  }
 },
 "nbformat": 4,
 "nbformat_minor": 2
}
