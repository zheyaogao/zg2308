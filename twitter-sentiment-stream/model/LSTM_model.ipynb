{
  "nbformat": 4,
  "nbformat_minor": 0,
  "metadata": {
    "colab": {
      "name": "data_streaming.ipynb",
      "version": "0.3.2",
      "provenance": []
    },
    "kernelspec": {
      "name": "python3",
      "display_name": "Python 3"
    },
    "accelerator": "GPU"
  },
  "cells": [
    {
      "metadata": {
        "id": "qWxLwWOph9qD",
        "colab_type": "code",
        "outputId": "53286ffb-b670-4cb6-8f95-31864daf0661",
        "colab": {
          "base_uri": "https://localhost:8080/",
          "height": 122
        }
      },
      "cell_type": "code",
      "source": [
        "from google.colab import drive\n",
        "drive.mount('/content/gdrive')"
      ],
      "execution_count": 0,
      "outputs": [
        {
          "output_type": "stream",
          "text": [
            "Go to this URL in a browser: https://accounts.google.com/o/oauth2/auth?client_id=947318989803-6bn6qk8qdgf4n4g3pfee6491hc0brc4i.apps.googleusercontent.com&redirect_uri=urn%3Aietf%3Awg%3Aoauth%3A2.0%3Aoob&scope=email%20https%3A%2F%2Fwww.googleapis.com%2Fauth%2Fdocs.test%20https%3A%2F%2Fwww.googleapis.com%2Fauth%2Fdrive%20https%3A%2F%2Fwww.googleapis.com%2Fauth%2Fdrive.photos.readonly%20https%3A%2F%2Fwww.googleapis.com%2Fauth%2Fpeopleapi.readonly&response_type=code\n",
            "\n",
            "Enter your authorization code:\n",
            "··········\n",
            "Mounted at /content/gdrive\n"
          ],
          "name": "stdout"
        }
      ]
    },
    {
      "metadata": {
        "id": "PymjT3lCiqym",
        "colab_type": "code",
        "outputId": "ffb3663a-35bb-40f6-9675-6cb6f50c99aa",
        "colab": {
          "base_uri": "https://localhost:8080/",
          "height": 34
        }
      },
      "cell_type": "code",
      "source": [
        "!ls '/content/gdrive/My Drive/data_streami"
      ],
      "execution_count": 0,
      "outputs": [
        {
          "output_type": "stream",
          "text": [
            "model.h5  sentiment140.csv  tokenizer.pickle\n"
          ],
          "name": "stdout"
        }
      ]
    },
    {
      "metadata": {
        "id": "6VNPD0SjiUTp",
        "colab_type": "code",
        "outputId": "be8a5ac3-6b08-4c7c-9712-d1dfece170b8",
        "colab": {
          "base_uri": "https://localhost:8080/",
          "height": 34
        }
      },
      "cell_type": "code",
      "source": [
        "import pandas as pd\n",
        "import re\n",
        "import tensorflow as tf\n",
        "from keras.preprocessing.text import Tokenizer\n",
        "from keras.preprocessing.sequence import pad_sequences\n",
        "from keras.models import Sequential\n",
        "from keras.layers import Dense, Embedding, LSTM\n",
        "from keras.utils.np_utils import to_categorical"
      ],
      "execution_count": 0,
      "outputs": [
        {
          "output_type": "stream",
          "text": [
            "Using TensorFlow backend.\n"
          ],
          "name": "stderr"
        }
      ]
    },
    {
      "metadata": {
        "id": "tMs3YT7_g83v",
        "colab_type": "code",
        "outputId": "f96c023a-4fa0-4c9b-b4fc-00baf43418ee",
        "colab": {
          "base_uri": "https://localhost:8080/",
          "height": 34
        }
      },
      "cell_type": "code",
      "source": [
        "print(\"You have version\", tf.__version__)"
      ],
      "execution_count": 0,
      "outputs": [
        {
          "output_type": "stream",
          "text": [
            "You have version 1.13.1\n"
          ],
          "name": "stdout"
        }
      ]
    },
    {
      "metadata": {
        "id": "_MFmZBTWilyz",
        "colab_type": "code",
        "colab": {}
      },
      "cell_type": "code",
      "source": [
        "#skip the abnormal lines and keeping necessary columns\n",
        "data_path = '/content/gdrive/My Drive/data_streaming/sentiment140.csv'\n",
        "data = pd.read_csv(data_path, skiprows=[8835,535881])\n",
        "data = data[['Sentiment', 'SentimentText']]"
      ],
      "execution_count": 0,
      "outputs": []
    },
    {
      "metadata": {
        "id": "D5BrKNdrSN-Q",
        "colab_type": "code",
        "colab": {}
      },
      "cell_type": "code",
      "source": [
        "from sklearn.utils import shuffle"
      ],
      "execution_count": 0,
      "outputs": []
    },
    {
      "metadata": {
        "id": "tjm8c6Coj2YR",
        "colab_type": "code",
        "outputId": "b0ffb6de-c876-476f-f6fc-c7a4e152e830",
        "colab": {
          "base_uri": "https://localhost:8080/",
          "height": 51
        }
      },
      "cell_type": "code",
      "source": [
        "#data_preprocessing\n",
        "data['SentimentText'] = data['SentimentText'].apply(lambda x: x.lower())\n",
        "data['SentimentText'] = data['SentimentText'].apply((lambda x: re.sub('[^a-zA-z0-9\\s]','',x)))\n",
        "\n",
        "positive = data[data['Sentiment'] == 1]\n",
        "negative = data[data['Sentiment'] == 0]\n",
        "\n",
        "print(positive.size)\n",
        "print(negative.size)\n",
        "\n",
        "data1 = pd.concat([positive.head(20000),negative.head(20000)]) \n",
        "data1 = shuffle(data1)\n"
      ],
      "execution_count": 0,
      "outputs": [
        {
          "output_type": "stream",
          "text": [
            "1580354\n",
            "1576870\n"
          ],
          "name": "stdout"
        }
      ]
    },
    {
      "metadata": {
        "id": "OGJmMTftS-I7",
        "colab_type": "code",
        "outputId": "2de726d9-bde5-4cf3-9df6-7740a9b4fdf3",
        "colab": {
          "base_uri": "https://localhost:8080/",
          "height": 34
        }
      },
      "cell_type": "code",
      "source": [
        "max_fatures = 2000\n",
        "tokenizer = Tokenizer(num_words=max_fatures, split=' ')\n",
        "tokenizer.fit_on_texts(data1['SentimentText'].values)\n",
        "sentiment_text = tokenizer.texts_to_sequences(data1['SentimentText'].values)\n",
        "sentiment_text = pad_sequences(sentiment_text)\n",
        "print(type(sentiment_text))"
      ],
      "execution_count": 0,
      "outputs": [
        {
          "output_type": "stream",
          "text": [
            "<class 'numpy.ndarray'>\n"
          ],
          "name": "stdout"
        }
      ]
    },
    {
      "metadata": {
        "id": "y1XUwFGTjUst",
        "colab_type": "code",
        "colab": {}
      },
      "cell_type": "code",
      "source": [
        "import pickle\n",
        "with open('/content/gdrive/My Drive/data_streaming/tokenizer.pickle','wb') as handle:\n",
        "  pickle.dump(tokenizer, handle, protocol = pickle.HIGHEST_PROTOCOL)"
      ],
      "execution_count": 0,
      "outputs": []
    },
    {
      "metadata": {
        "id": "kkheNSbMwnbo",
        "colab_type": "code",
        "outputId": "b65f96ef-0065-4b84-c09f-07800db82b10",
        "colab": {
          "base_uri": "https://localhost:8080/",
          "height": 396
        }
      },
      "cell_type": "code",
      "source": [
        "embedding_size = 16\n",
        "unit = 8\n",
        "model = tf.keras.Sequential()\n",
        "model.add(tf.keras.layers.Embedding(max_fatures, embedding_size,input_length = sentiment_text.shape[1]))\n",
        "model.add(tf.keras.layers.LSTM(unit, dropout =0.2, recurrent_dropout =0.2))\n",
        "model.add(tf.keras.layers.Dropout(0.3))\n",
        "model.add(tf.keras.layers.Dense(2,activation='softmax'))\n",
        "model.compile(loss = 'categorical_crossentropy', optimizer='adam',metrics = ['accuracy'])\n",
        "model.summary()"
      ],
      "execution_count": 0,
      "outputs": [
        {
          "output_type": "stream",
          "text": [
            "WARNING:tensorflow:From /usr/local/lib/python3.6/dist-packages/tensorflow/python/ops/resource_variable_ops.py:435: colocate_with (from tensorflow.python.framework.ops) is deprecated and will be removed in a future version.\n",
            "Instructions for updating:\n",
            "Colocations handled automatically by placer.\n",
            "WARNING:tensorflow:From /usr/local/lib/python3.6/dist-packages/tensorflow/python/keras/backend.py:4010: calling dropout (from tensorflow.python.ops.nn_ops) with keep_prob is deprecated and will be removed in a future version.\n",
            "Instructions for updating:\n",
            "Please use `rate` instead of `keep_prob`. Rate should be set to `rate = 1 - keep_prob`.\n",
            "_________________________________________________________________\n",
            "Layer (type)                 Output Shape              Param #   \n",
            "=================================================================\n",
            "embedding (Embedding)        (None, 40, 16)            32000     \n",
            "_________________________________________________________________\n",
            "lstm (LSTM)                  (None, 8)                 800       \n",
            "_________________________________________________________________\n",
            "dropout (Dropout)            (None, 8)                 0         \n",
            "_________________________________________________________________\n",
            "dense (Dense)                (None, 2)                 18        \n",
            "=================================================================\n",
            "Total params: 32,818\n",
            "Trainable params: 32,818\n",
            "Non-trainable params: 0\n",
            "_________________________________________________________________\n"
          ],
          "name": "stdout"
        }
      ]
    },
    {
      "metadata": {
        "id": "w1SEVmwXyLAT",
        "colab_type": "code",
        "outputId": "d2a48234-f12e-4658-fae4-151dd252353e",
        "colab": {
          "base_uri": "https://localhost:8080/",
          "height": 51
        }
      },
      "cell_type": "code",
      "source": [
        "from sklearn.model_selection import train_test_split\n",
        "sentiment = pd.get_dummies(data1['Sentiment']).values\n",
        "x_train, x_test, y_train, y_test = train_test_split(sentiment_text, sentiment,test_size=0.2,\n",
        "                                                    random_state=42)\n",
        "print(x_train.shape,y_train.shape)\n",
        "print(x_test.shape,y_test.shape)"
      ],
      "execution_count": 0,
      "outputs": [
        {
          "output_type": "stream",
          "text": [
            "(32000, 40) (32000, 2)\n",
            "(8000, 40) (8000, 2)\n"
          ],
          "name": "stdout"
        }
      ]
    },
    {
      "metadata": {
        "id": "RDJoT_nozza4",
        "colab_type": "code",
        "outputId": "ff6d27c7-bb26-4d18-fa92-26c93502ce14",
        "colab": {
          "base_uri": "https://localhost:8080/",
          "height": 464
        }
      },
      "cell_type": "code",
      "source": [
        "batch_size = 64\n",
        "model.fit(x_train, y_train, validation_split=0.2,epochs=10, verbose = 2)"
      ],
      "execution_count": 0,
      "outputs": [
        {
          "output_type": "stream",
          "text": [
            "Train on 25600 samples, validate on 6400 samples\n",
            "WARNING:tensorflow:From /usr/local/lib/python3.6/dist-packages/tensorflow/python/ops/math_ops.py:3066: to_int32 (from tensorflow.python.ops.math_ops) is deprecated and will be removed in a future version.\n",
            "Instructions for updating:\n",
            "Use tf.cast instead.\n",
            "Epoch 1/10\n",
            " - 65s - loss: 0.6016 - acc: 0.6766 - val_loss: 0.5250 - val_acc: 0.7436\n",
            "Epoch 2/10\n",
            " - 64s - loss: 0.5110 - acc: 0.7561 - val_loss: 0.5165 - val_acc: 0.7498\n",
            "Epoch 3/10\n",
            " - 65s - loss: 0.4909 - acc: 0.7689 - val_loss: 0.5168 - val_acc: 0.7453\n",
            "Epoch 4/10\n",
            " - 64s - loss: 0.4776 - acc: 0.7742 - val_loss: 0.5146 - val_acc: 0.7520\n",
            "Epoch 5/10\n",
            " - 64s - loss: 0.4683 - acc: 0.7836 - val_loss: 0.5153 - val_acc: 0.7525\n",
            "Epoch 6/10\n",
            " - 64s - loss: 0.4626 - acc: 0.7835 - val_loss: 0.5176 - val_acc: 0.7509\n",
            "Epoch 7/10\n",
            " - 64s - loss: 0.4515 - acc: 0.7873 - val_loss: 0.5227 - val_acc: 0.7461\n",
            "Epoch 8/10\n",
            " - 65s - loss: 0.4461 - acc: 0.7915 - val_loss: 0.5286 - val_acc: 0.7525\n",
            "Epoch 9/10\n",
            " - 64s - loss: 0.4411 - acc: 0.7939 - val_loss: 0.5339 - val_acc: 0.7489\n",
            "Epoch 10/10\n",
            " - 64s - loss: 0.4320 - acc: 0.7976 - val_loss: 0.5420 - val_acc: 0.7492\n"
          ],
          "name": "stdout"
        },
        {
          "output_type": "execute_result",
          "data": {
            "text/plain": [
              "<tensorflow.python.keras.callbacks.History at 0x7fd317a7a320>"
            ]
          },
          "metadata": {
            "tags": []
          },
          "execution_count": 13
        }
      ]
    },
    {
      "metadata": {
        "id": "dGRuZQ-S1JGo",
        "colab_type": "code",
        "outputId": "dccf9e7b-becd-47ec-c5f7-343ed5ea88c8",
        "colab": {
          "base_uri": "https://localhost:8080/",
          "height": 51
        }
      },
      "cell_type": "code",
      "source": [
        "model.evaluate(x_test, y_test, batch_size=32, verbose=1)"
      ],
      "execution_count": 0,
      "outputs": [
        {
          "output_type": "stream",
          "text": [
            "8000/8000 [==============================] - 8s 958us/sample - loss: 0.5147 - acc: 0.7595\n"
          ],
          "name": "stdout"
        },
        {
          "output_type": "execute_result",
          "data": {
            "text/plain": [
              "[0.514716936469078, 0.7595]"
            ]
          },
          "metadata": {
            "tags": []
          },
          "execution_count": 14
        }
      ]
    },
    {
      "metadata": {
        "id": "OFQY15iLfJs1",
        "colab_type": "code",
        "colab": {}
      },
      "cell_type": "code",
      "source": [
        "from sklearn.externals import joblib"
      ],
      "execution_count": 0,
      "outputs": []
    },
    {
      "metadata": {
        "id": "u8jGrVtzndPU",
        "colab_type": "code",
        "colab": {}
      },
      "cell_type": "code",
      "source": [
        "model.save('/content/gdrive/My Drive/data_streaming/model_1.0.h5')"
      ],
      "execution_count": 0,
      "outputs": []
    },
    {
      "metadata": {
        "id": "XaGL4xHFn_Sg",
        "colab_type": "code",
        "outputId": "451d8ba4-8d70-4073-ab9f-e2f790fccea6",
        "colab": {
          "base_uri": "https://localhost:8080/",
          "height": 122
        }
      },
      "cell_type": "code",
      "source": [
        "new_model = tf.keras.models.load_model('/content/gdrive/My Drive/data_streaming/model.h5')"
      ],
      "execution_count": 0,
      "outputs": [
        {
          "output_type": "stream",
          "text": [
            "WARNING: Logging before flag parsing goes to stderr.\n",
            "W0416 15:39:08.483653 139723704842112 tf_logging.py:161] <tensorflow.python.keras.layers.recurrent.UnifiedLSTM object at 0x7f1363420518>: Note that this layer is not optimized for performance. Please use tf.keras.layers.CuDNNLSTM for better performance on GPU.\n",
            "W0416 15:39:08.547267 139723704842112 deprecation.py:506] From /usr/local/lib/python3.6/dist-packages/tensorflow/python/keras/backend.py:4081: calling dropout (from tensorflow.python.ops.nn_ops) with keep_prob is deprecated and will be removed in a future version.\n",
            "Instructions for updating:\n",
            "Please use `rate` instead of `keep_prob`. Rate should be set to `rate = 1 - keep_prob`.\n"
          ],
          "name": "stderr"
        }
      ]
    },
    {
      "metadata": {
        "id": "q4-2YY5coQqM",
        "colab_type": "code",
        "outputId": "e90c35ad-d99f-4e8e-fff0-54630eb81725",
        "colab": {
          "base_uri": "https://localhost:8080/",
          "height": 51
        }
      },
      "cell_type": "code",
      "source": [
        "#new_model.evaluate(x_test, y_test, batch_size=32, verbose=1)"
      ],
      "execution_count": 0,
      "outputs": [
        {
          "output_type": "stream",
          "text": [
            "8000/8000 [==============================] - 12s 1ms/sample - loss: 0.5584 - accuracy: 0.7444\n"
          ],
          "name": "stdout"
        },
        {
          "output_type": "execute_result",
          "data": {
            "text/plain": [
              "[0.5584347652196884, 0.744375]"
            ]
          },
          "metadata": {
            "tags": []
          },
          "execution_count": 26
        }
      ]
    },
    {
      "metadata": {
        "id": "2aLffpGP3Md_",
        "colab_type": "code",
        "colab": {}
      },
      "cell_type": "code",
      "source": [
        "import numpy as np"
      ],
      "execution_count": 0,
      "outputs": []
    },
    {
      "metadata": {
        "id": "ljvzQmh2uApL",
        "colab_type": "code",
        "outputId": "48ceed3e-b38e-45df-b4f3-73c7a6200aae",
        "colab": {
          "base_uri": "https://localhost:8080/",
          "height": 34
        }
      },
      "cell_type": "code",
      "source": [
        "result = np.argmax(new_model.predict(np.array([x_test[0]])))\n",
        "print(result)"
      ],
      "execution_count": 0,
      "outputs": [
        {
          "output_type": "stream",
          "text": [
            "1\n"
          ],
          "name": "stdout"
        }
      ]
    },
    {
      "metadata": {
        "id": "eYgPbVZ5z_u8",
        "colab_type": "code",
        "colab": {}
      },
      "cell_type": "code",
      "source": [
        ""
      ],
      "execution_count": 0,
      "outputs": []
    }
  ]
}