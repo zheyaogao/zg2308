{
  "cells": [
    {
      "metadata": {
        "trusted": true
      },
      "cell_type": "code",
      "source": "import csv\nimport operator",
      "execution_count": null,
      "outputs": []
    },
    {
      "metadata": {
        "collapsed": true,
        "trusted": false
      },
      "cell_type": "code",
      "source": "csvfile = open(\"PeopleSmall.csv\")\nreader1 = csv.DictReader(csvfile)\nhitters = []\nfor row1 in reader1:\n    playerID = row1[\"playerID\"]\n    first_name = row1[\"nameFirst\"]\n    last_name = row1[\"nameLast\"]\n    csvfile = open(\"BattingSmall.csv\")\n    reader2 = csv.DictReader(csvfile)\n    years = []\n    total_at_bats = 0\n    total_hits = 0\n    for row2 in reader2:\n        if playerID == row2[\"playerID\"]:\n            total_at_bats += int(row2[\"AB\"])\n            total_hits += int(row2[\"H\"])\n            years.append(int(row2[\"yearID\"]))\n    if total_at_bats == 0:\n        career_average = 0\n    else:\n        career_average = total_hits/total_at_bats\n    if years == []:\n        years = [0]\n    if max(years) >= 1960:\n        hitters.append({'playerID': playerID,\n                        'first_name': first_name, \\\n                        'last_name': last_name, \\\n                        'career_average': career_average, \\\n                        'career_hits': total_hits, \\\n                        'career_at_bats': total_at_bats, \\\n                        'first_year': min(years), \\\n                        'last_year': max(years)})\ntop_hitters = sorted(hitters, key=operator.itemgetter('career_average'),reverse=True) \ntop_hitters",
      "execution_count": null,
      "outputs": []
    }
  ],
  "metadata": {
    "kernelspec": {
      "name": "python36",
      "display_name": "Python 3.6",
      "language": "python"
    },
    "language_info": {
      "mimetype": "text/x-python",
      "nbconvert_exporter": "python",
      "name": "python",
      "pygments_lexer": "ipython3",
      "version": "3.6.6",
      "file_extension": ".py",
      "codemirror_mode": {
        "version": 3,
        "name": "ipython"
      }
    }
  },
  "nbformat": 4,
  "nbformat_minor": 2
}