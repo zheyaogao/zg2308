{
 "cells": [
  {
   "cell_type": "code",
   "execution_count": null,
   "metadata": {},
   "outputs": [],
   "source": [
    "import pymysql.cursors\n",
    "cnx = pymysql.connect(host='localhost',\n",
    "                             user='root',\n",
    "                             password='gzy1589745',\n",
    "                             db='lahman2017',\n",
    "                             charset='utf8mb4',\n",
    "                             cursorclass=pymysql.cursors.DictCursor)\n",
    "def DBRunQuery(q):\n",
    "    cursor=cnx.cursor()\n",
    "    print (\"Query = \", q)\n",
    "    cursor.execute(q);\n",
    "    r = cursor.fetchall()\n",
    "    return r\n",
    "\n",
    "q = \"SELECT \\\n",
    "Batting.playerID, \\\n",
    "(SELECT People.nameFirst FROM People WHERE People.playerID=Batting.playerID) as first_name, \\\n",
    "(SELECT People.nameLast FROM People WHERE People.playerID=Batting.playerID) as last_name, \\\n",
    "sum(Batting.h)/sum(batting.ab) as career_average, \\\n",
    "sum(Batting.h) as career_hits, \\\n",
    "sum(Batting.ab) as career_at_bats,\\\n",
    "min(Batting.yearID) as first_year, \\\n",
    "max(Batting.yearID) as last_year \\\n",
    "FROM \\\n",
    "Batting \\\n",
    "GROUP BY \\\n",
    "playerId \\\n",
    "HAVING \\\n",
    "career_at_bats > 200 AND last_year >= 1960 \\\n",
    "ORDER BY \\\n",
    "career_average DESC \\\n",
    "LIMIT 10;\"\n",
    "\n",
    "DBRunQuery(q)"
   ]
  }
 ],
 "metadata": {
  "kernelspec": {
   "display_name": "Python 3",
   "language": "python",
   "name": "python3"
  },
  "language_info": {
   "codemirror_mode": {
    "name": "ipython",
    "version": 3
   },
   "file_extension": ".py",
   "mimetype": "text/x-python",
   "name": "python",
   "nbconvert_exporter": "python",
   "pygments_lexer": "ipython3",
   "version": "3.6.5"
  }
 },
 "nbformat": 4,
 "nbformat_minor": 2
}
