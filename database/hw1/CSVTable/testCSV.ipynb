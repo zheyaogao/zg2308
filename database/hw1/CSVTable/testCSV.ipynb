{
  "cells": [
    {
      "metadata": {
        "trusted": true
      },
      "cell_type": "code",
      "source": "import csv",
      "execution_count": 6,
      "outputs": []
    },
    {
      "metadata": {
        "trusted": true
      },
      "cell_type": "code",
      "source": "class CSVTable:\n    def __init__(self,table_name,file_name, primary_key):\n        self.table_name=table_name\n        self.file_name= \"../Data/\" + file_name\n        self.primary_key = primary_key\n        self.reader = []\n        self.writer = []\n        self.header = []\n        \n    def load(self):\n        csvfile = open(self.file_name)\n        self.reader = csv.DictReader(csvfile)\n        \n    def load_header(self):\n        self.load()\n        self.header = list(list(self.reader)[0].keys())\n        \n    def save(self):\n        with open(self.file_name, 'w', newline='') as csvfile:\n            fieldnames = self.header\n            writer = csv.DictWriter(csvfile, fieldnames=fieldnames)\n            writer.writeheader()\n            for row in self.writer:\n                writer.writerow(dict(row))\n        \n    def primary_key_error(self):\n        for key in self.primary_key:\n            if key not in self.header:\n                return True\n            else:\n                return False\n            \n    def invalid_keys_error(self,t):\n        for key, value in t.items():\n            if key not in self.header:\n                return True\n            else:\n                return False\n            \n    def insert_error(self,t):\n        for key in self.primary_key:\n            if not t.__contains__(key):\n                return \"err1\"\n        table = self.find_by_primary_key([value for key,value in t.items()])\n        if table != []:\n            return \"err2\"\n            \n    def find_by_primary_key(self, string, fields = None):\n        if self.primary_key_error():\n            print(\"Error: primary keys are not a subset of the columns in the underlying file/table\")\n        self.load()\n        for row in self.reader:\n            value_list = [row.get(key) for key in self.primary_key]             \n            if value_list == string:\n                if fields == None:\n                    return row\n                else:\n                    return {key: value for key, value in row.items() if key in fields}\n        return []\n        \n    def find_by_template(self, t, fields = None):\n        if self.invalid_keys_error(t):\n            return print(\"Error: find_by_template with invalid keys\")\n        self.load()\n        dicts = self.reader\n        for key,value in t.items():\n            temp = []\n            for row in dicts:\n                if row.get(key) == value:\n                    temp.append(row)\n            dicts = temp            \n        if fields == None:\n            return dicts\n        else:\n            results = []\n            for dic in dicts:\n                results.append({key: value for key, value in dic.items() if key in fields})\n            return results \n        \n    def insert(self,t):\n        if self.invalid_keys_error(t):\n            return print(\"Error: insert with invalid keys\")\n        err = self.insert_error(t)\n        if err == \"err1\":\n            return print(\"Error: insert without primary keys\")\n        elif err == \"err2\":\n            return print(\"Error: insert duplicate primary keys\")\n        self.load()\n        self.writer = list(self.reader)\n        self.writer.append(t)       \n        \n    def delete(self,t):\n        if self.invalid_keys_error(t):\n            return print(\"Error: delete with invalid keys\")\n        self.load()\n        self.writer = []\n        for row in self.reader:\n            for key,value in t.items():\n                if value != row[key]:\n                    delete = False\n                    break\n                else:\n                    delete = True\n            \n            if not delete:\n                self.writer.append(row)\n",
      "execution_count": 23,
      "outputs": []
    },
    {
      "metadata": {
        "trusted": true
      },
      "cell_type": "code",
      "source": "def test_template(test_name,names, file_name, primary_key, template, fields=None):\n    print(\"\\n\\n*******************************\")\n    print(\"Test name = \", test_name)\n    print(\"Template = \", template)\n    print(\"Fields = \", fields)\n\n    try:\n        csvt = CSVTable(names, file_name, primary_key)\n        csvt.load_header()\n        \n        r = csvt.find_by_template(template, fields)\n        print(\"Result table:\")\n        print(r)\n    except ValueError as ve:\n        print(\"Exception = \", ve)",
      "execution_count": 24,
      "outputs": []
    },
    {
      "metadata": {
        "trusted": true
      },
      "cell_type": "code",
      "source": "def test_primary_key(test_name,names, file_name, primary_key, values, fields=None):\n    print(\"\\n\\n*******************************\")\n    print(\"Test name = \", test_name)\n    print(\"Values = \", values)\n    print(\"Fields = \", fields)\n\n    try:\n        csvt = CSVTable(names, file_name, primary_key)\n        csvt.load_header()\n\n        r = csvt.find_by_primary_key(values, fields)\n        print(\"Result table:\")\n        print(r)\n    except ValueError as ve:\n        print(\"Exception = \", ve)",
      "execution_count": 26,
      "outputs": []
    },
    {
      "metadata": {
        "trusted": true
      },
      "cell_type": "code",
      "source": "def test_insert(test_name,names, file_name, primary_key, row, fields=None):\n    print(\"\\n\\n*******************************\")\n    print(\"Test name = \", test_name)\n    print(\"Row to insert = \", row)\n    \n    try:\n        csvt = CSVTable(names, file_name, primary_key)\n        csvt.load_header()\n        \n        csvt.insert(row)\n        csvt.save()\n    except ValueError as ve:\n        print(\"Exception = \", ve)\n",
      "execution_count": 37,
      "outputs": []
    },
    {
      "metadata": {
        "trusted": true
      },
      "cell_type": "code",
      "source": "def test_delete(test_name,names, file_name,primary_key, row, fields=None):\n    print(\"\\n\\n*******************************\")\n    print(\"Test name = \", test_name)\n    print(\"Row to insert = \", row)\n    \n    try:\n        csvt = CSVTable(names, file_name, primary_key)\n        csvt.load_header()\n        \n        csvt.delete(row)\n        csvt.save()\n    except ValueError as ve:\n        print(\"Exception = \", ve)",
      "execution_count": 41,
      "outputs": []
    },
    {
      "metadata": {
        "trusted": true
      },
      "cell_type": "code",
      "source": "test_template(\"Test1\", \"People\", \"People.csv\", [\"playerID\"],\n              {\"birthMonth\": \"9\", \"nameLast\": \"Williams\"}, [\"nameLast\", \"nameFirst\", \"birthMonth\", \"birthYear\"])\ntest_template(\"Test2\", \"Batting\", \"Batting.csv\", [\"playerID\", \"yearID\", \"teamID\", \"stint\"],\n              {\"playerID\": \"willite01\", \"yearID\": \"1961\"}, [\"playerID\", \"yearID\", \"teamID\", \"AB\", \"H\", \"HR\"])\n",
      "execution_count": 27,
      "outputs": [
        {
          "output_type": "stream",
          "text": "\n\n*******************************\nTest name =  Test1\nTemplate =  {'birthMonth': '9', 'nameLast': 'Williams'}\nFields =  ['nameLast', 'nameFirst', 'birthMonth', 'birthYear', 'playerID']\nResult table:\n[{'birthMonth': '9', 'nameLast': 'Williams', 'playerID': 'willibe02', 'nameFirst': 'Bernie', 'birthYear': '1968'}, {'birthMonth': '9', 'nameLast': 'Williams', 'playerID': 'willido01', 'nameFirst': 'Don', 'birthYear': '1931'}, {'birthMonth': '9', 'nameLast': 'Williams', 'playerID': 'willido02', 'nameFirst': 'Don', 'birthYear': '1935'}, {'birthMonth': '9', 'nameLast': 'Williams', 'playerID': 'willini01', 'nameFirst': 'Nick', 'birthYear': '1993'}, {'birthMonth': '9', 'nameLast': 'Williams', 'playerID': 'willira01', 'nameFirst': 'Randy', 'birthYear': '1975'}, {'birthMonth': '9', 'nameLast': 'Williams', 'playerID': 'willist02', 'nameFirst': 'Stan', 'birthYear': '1936'}]\n\n\n*******************************\nTest name =  Test2\nTemplate =  {'yearID': '1961', 'playerID': 'willite01'}\nFields =  ['playerID', 'yearID', 'teamID', 'AB', 'H', 'HR']\nResult table:\n[]\n",
          "name": "stdout"
        }
      ]
    },
    {
      "metadata": {
        "trusted": true
      },
      "cell_type": "code",
      "source": "test_primary_key(\"Test1\", \"People\", \"People.csv\", [\"playerID\"],\n              [\"willibe02\"], [\"nameLast\", \"nameFirst\", \"birthMonth\", \"birthYear\"])\n   \ntest_primary_key(\"Test2\", \"Batting\", \"Batting.csv\", [\"playerID\", \"yearID\", \"teamID\", \"stint\"],\n              ['willite01','BOS','1960','1'], [\"playerID\", \"yearID\", \"teamID\"])",
      "execution_count": 29,
      "outputs": [
        {
          "output_type": "stream",
          "text": "\n\n*******************************\nTest name =  Test1\nValues =  ['willibe02']\nFields =  ['nameLast', 'nameFirst', 'birthMonth', 'birthYear']\nResult table:\n{'birthMonth': '9', 'nameLast': 'Williams', 'nameFirst': 'Bernie', 'birthYear': '1968'}\n\n\n*******************************\nTest name =  Test2\nValues =  ['willite01', 'BOS', '1960', '1']\nFields =  ['playerID', 'yearID', 'teamID']\nResult table:\n[]\n",
          "name": "stdout"
        }
      ]
    },
    {
      "metadata": {
        "trusted": true
      },
      "cell_type": "code",
      "source": "test_insert(\"Insert Test 1\", \"People\", \"People.csv\", [\"playerID\"],\n            {\"playerID\": \"zg2308\", \"nameLast\": \"Gao\", \"nameFirst\": \"Zheyao\"},\n            )\n\ntest_template(\"Find insert 1\", \"People\", \"People.csv\", [\"playerID\"],\n              {\"playerID\": \"zg2308\", \"nameLast\": \"Gao\", \"nameFirst\": \"Zheyao\"}, [\"nameLast\", \"nameFirst\", \"playerID\"]\n              )\n\ntest_insert(\"Insert Test 2\", \"People\", \"People.csv\", [\"playerID\"],\n            {\"playerID\": \"dff1\", \"nameLast\": \"Ferguson\", \"nameFirst\": \"Donald\"},\n            )\ntest_template(\"Find Test 2\", \"People\", \"People.csv\", [\"playerID\"],\n            {\"playerID\": \"dff1\", \"nameLast\": \"Ferguson\", \"nameFirst\": \"Donald\"}, [\"nameLast\", \"nameFirst\", \"playerID\"]\n            )",
      "execution_count": 35,
      "outputs": [
        {
          "output_type": "stream",
          "text": "\n\n*******************************\nTest name =  Insert Test 1\nRow to insert =  {'nameLast': 'Gao', 'playerID': 'zg2308', 'nameFirst': 'Zheyao'}\n\n\n*******************************\nTest name =  Find insert 1\nTemplate =  {'nameLast': 'Gao', 'playerID': 'zg2308', 'nameFirst': 'Zheyao'}\nFields =  ['nameLast', 'nameFirst', 'playerID']\nResult table:\n[{'nameLast': 'Gao', 'playerID': 'zg2308', 'nameFirst': 'Zheyao'}]\n\n\n*******************************\nTest name =  Insert Test 2\nRow to insert =  {'nameLast': 'Ferguson', 'playerID': 'dff1', 'nameFirst': 'Donald'}\n\n\n*******************************\nTest name =  Find Test 2\nTemplate =  {'nameLast': 'Ferguson', 'playerID': 'dff1', 'nameFirst': 'Donald'}\nFields =  ['nameLast', 'nameFirst', 'playerID']\nResult table:\n[{'nameLast': 'Ferguson', 'playerID': 'dff1', 'nameFirst': 'Donald'}]\n",
          "name": "stdout"
        }
      ]
    },
    {
      "metadata": {
        "trusted": true
      },
      "cell_type": "code",
      "source": "test_delete(\"Delete Test 1\", \"People\", \"People.csv\", [\"playerID\"],\n            {\"playerID\": \"zg2308\", \"nameLast\": \"Gao\", \"nameFirst\": \"Zheyao\"},\n            )\n\ntest_template(\"Find Test 1\", \"People\", \"People.csv\", [\"playerID\"],\n              {\"playerID\": \"zg2308\", \"nameLast\": \"Gao\", \"nameFirst\": \"Zheyao\"}, [\"nameLast\", \"nameFirst\", \"playerID\"]\n              )\n\ntest_delete(\"Delete Test 2\", \"People\", \"People.csv\", [\"playerID\"],\n            {\"playerID\": \"dff1\", \"nameLast\": \"Ferguson\", \"nameFirst\": \"Donald\"},\n            )\ntest_template(\"Find Test 2\", \"People\", \"People.csv\", [\"playerID\"],\n            {\"playerID\": \"dff1\", \"nameLast\": \"Ferguson\", \"nameFirst\": \"Donald\"}, [\"nameLast\", \"nameFirst\", \"playerID\"]\n            )",
      "execution_count": 42,
      "outputs": [
        {
          "output_type": "stream",
          "text": "\n\n*******************************\nTest name =  Delete Test 1\nRow to insert =  {'nameLast': 'Gao', 'playerID': 'zg2308', 'nameFirst': 'Zheyao'}\n\n\n*******************************\nTest name =  Find Test 1\nTemplate =  {'nameLast': 'Gao', 'playerID': 'zg2308', 'nameFirst': 'Zheyao'}\nFields =  ['nameLast', 'nameFirst', 'playerID']\nResult table:\n[]\n\n\n*******************************\nTest name =  Delete Test 2\nRow to insert =  {'nameLast': 'Ferguson', 'playerID': 'dff1', 'nameFirst': 'Donald'}\n\n\n*******************************\nTest name =  Find Test 2\nTemplate =  {'nameLast': 'Ferguson', 'playerID': 'dff1', 'nameFirst': 'Donald'}\nFields =  ['nameLast', 'nameFirst', 'playerID']\nResult table:\n[]\n",
          "name": "stdout"
        }
      ]
    }
  ],
  "metadata": {
    "kernelspec": {
      "name": "python3",
      "display_name": "Python 3",
      "language": "python"
    },
    "language_info": {
      "mimetype": "text/x-python",
      "nbconvert_exporter": "python",
      "name": "python",
      "pygments_lexer": "ipython3",
      "version": "3.5.4",
      "file_extension": ".py",
      "codemirror_mode": {
        "version": 3,
        "name": "ipython"
      }
    }
  },
  "nbformat": 4,
  "nbformat_minor": 2
}